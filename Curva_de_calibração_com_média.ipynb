{
  "nbformat": 4,
  "nbformat_minor": 0,
  "metadata": {
    "colab": {
      "name": "Curva de calibração com média.ipynb",
      "provenance": [],
      "authorship_tag": "ABX9TyP85uwPTRK8DgbGxBj6aWaY",
      "include_colab_link": true
    },
    "kernelspec": {
      "name": "python3",
      "display_name": "Python 3"
    },
    "language_info": {
      "name": "python"
    }
  },
  "cells": [
    {
      "cell_type": "markdown",
      "metadata": {
        "id": "view-in-github",
        "colab_type": "text"
      },
      "source": [
        "<a href=\"https://colab.research.google.com/github/Fonseca-BrunoC/Teste/blob/main/Curva_de_calibra%C3%A7%C3%A3o_com_m%C3%A9dia.ipynb\" target=\"_parent\"><img src=\"https://colab.research.google.com/assets/colab-badge.svg\" alt=\"Open In Colab\"/></a>"
      ]
    },
    {
      "cell_type": "code",
      "metadata": {
        "id": "ewVj6Dr0dq10"
      },
      "source": [
        "#Importando as bibliotecas\n",
        "import numpy as np\n",
        "import matplotlib.pyplot as plt\n",
        "import pandas as pd"
      ],
      "execution_count": 39,
      "outputs": []
    },
    {
      "cell_type": "code",
      "metadata": {
        "colab": {
          "base_uri": "https://localhost:8080/"
        },
        "id": "97gYCNozdw73",
        "outputId": "c85ff0e8-cea4-4ca5-92af-aa0568d7e48c"
      },
      "source": [
        "#Importando dados\n",
        "df = pd.read_csv(\"/content/data2.csv\") \n",
        "print(df)\n",
        "data = df.to_numpy() #transformando os dados em numpy\n",
        "#Fazendo as médias das abs\n",
        "\n",
        "M1 = np.mean(data[0,:3])\n",
        "M2 = np.mean(data[1,:3])\n",
        "M3 = np.mean(data[2,:3])\n",
        "M4 = np.mean(data[3,:3])\n",
        "M5 = np.mean(data[4,:3])\n",
        "#Criando uma coluna para as médias\n",
        "AbsM = np.array([[M1], [M2], [M3], [M4], [M5]])\n",
        "AbsM = AbsM.round(3) #diminuindo as casas decimais\n",
        "\n",
        "#criando nova matriz para as médias e a cocnetração\n",
        "dataa = np.array([[data[0,3]], [data[1,3]], [data[2,3]], [data[3,3]], [data[4,3]]])\n",
        "data2 = np.append(AbsM, dataa, axis = 1)\n",
        "print(data2)\n",
        "\n",
        "y = data2[:,0]\n",
        "x = data2[:,1]"
      ],
      "execution_count": 40,
      "outputs": [
        {
          "output_type": "stream",
          "text": [
            "     Abs   Abs 2   Abs3   C(mg/L)\n",
            "0  0.000   0.000  0.000         0\n",
            "1  0.315   0.322  0.341       200\n",
            "2  0.605   0.631  0.610       400\n",
            "3  0.920   0.915  0.923       600\n",
            "4  1.245   1.228  1.235       800\n",
            "[[0.000e+00 0.000e+00]\n",
            " [3.260e-01 2.000e+02]\n",
            " [6.150e-01 4.000e+02]\n",
            " [9.190e-01 6.000e+02]\n",
            " [1.236e+00 8.000e+02]]\n"
          ],
          "name": "stdout"
        }
      ]
    },
    {
      "cell_type": "code",
      "metadata": {
        "id": "qXPc5pmQwqdg"
      },
      "source": [
        "#Definindo o coeficiente angular\n",
        "def coef_ang(dy, dx):\n",
        "  a = dy / dx \n",
        "  return a\n",
        "\n",
        "#Definindo o coeficiente linear\n",
        "def coef_lin(y1, x1, m):\n",
        "  b = y1 - (m * x1) \n",
        "  return b"
      ],
      "execution_count": 41,
      "outputs": []
    },
    {
      "cell_type": "code",
      "metadata": {
        "id": "PVxY5oolwuNR"
      },
      "source": [
        "#Modelando a equação da reta\n",
        "def eq_reta(X, show):\n",
        "  dy = y[-1] - y[0] #determinando dy como a variação de y \n",
        "  dx = x[-1] - x[0] #determinando dx como a variação de x\n",
        "  m = coef_ang(dy,dx)\n",
        "\n",
        "  y1 = y[1] #utilizando o segundo ponto da reta para achar o coeficiente linear\n",
        "  x1 = x[1] \n",
        "  n = coef_lin(y1, x1, m)\n",
        "\n",
        "  Y = (m * X) + n # eq da reta\n",
        "\n",
        "  if show == True:  \n",
        "    return print(f\"y = {m:.5f}x + ({n:.5f})\") #Para show == True a função mostra somente a equação da reta\n",
        "  else:\n",
        "    return Y #Para show == False a função retorna os valores de y para um x em específico"
      ],
      "execution_count": 42,
      "outputs": []
    },
    {
      "cell_type": "code",
      "metadata": {
        "colab": {
          "base_uri": "https://localhost:8080/"
        },
        "id": "kPN-2f7Bwwht",
        "outputId": "b2ad0775-6c24-4cdb-a73c-dd4250646892"
      },
      "source": [
        "#mostrando a eq da reta\n",
        "X = x\n",
        "show = True\n",
        "eq_reta(X, show)"
      ],
      "execution_count": 43,
      "outputs": [
        {
          "output_type": "stream",
          "text": [
            "y = 0.00154x + (0.01700)\n"
          ],
          "name": "stdout"
        }
      ]
    },
    {
      "cell_type": "code",
      "metadata": {
        "colab": {
          "base_uri": "https://localhost:8080/",
          "height": 295
        },
        "id": "baBuyC8twyYf",
        "outputId": "b68a0555-bd01-4a4d-8947-d805ffeec17c"
      },
      "source": [
        "#Plotando a reta\n",
        "show = False\n",
        "fx = eq_reta(X, show) #funçao y\n",
        "plt.plot(x,y,\"r-\", marker ='o', linestyle = '')\n",
        "plt.plot(x,fx, \"b-\", linewidth=1) \n",
        "plt.title(\"Curva de calibração\", weight='bold')\n",
        "plt.xlabel(\"Concentração (mg/L)\", weight='bold')\n",
        "plt.ylabel(\"Absorbância\", weight='bold')\n",
        "plt.show()"
      ],
      "execution_count": 44,
      "outputs": [
        {
          "output_type": "display_data",
          "data": {
            "image/png": "[encoded data removed]",
            "text/plain": [
              "<Figure size 432x288 with 1 Axes>"
            ]
          },
          "metadata": {
            "tags": [],
            "needs_background": "light"
          }
        }
      ]
    }
  ]
}